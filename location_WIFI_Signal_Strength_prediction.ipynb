{
 "cells": [
  {
   "cell_type": "code",
   "execution_count": 1,
   "metadata": {},
   "outputs": [],
   "source": [
    "#loading libraries\n",
    "import seaborn as sns\n",
    "import pandas as pd\n",
    "import matplotlib.pyplot as plt\n",
    "import numpy as np"
   ]
  },
  {
   "cell_type": "code",
   "execution_count": 2,
   "metadata": {},
   "outputs": [],
   "source": [
    "#loading data\n",
    "data = pd.read_csv(r'C:\\Users\\OLAMIDE\\Desktop\\MACHINE_LEARNING_PROJECTS\\location_WIFI_Signal_Strength_prediction\\wifi_localization.csv',header=None)"
   ]
  },
  {
   "cell_type": "code",
   "execution_count": 3,
   "metadata": {},
   "outputs": [],
   "source": [
    "data[['Wifi 1','Wifi 2', 'Wifi 3', 'Wifi 4','Wifi 5','Wifi 6','Wifi 7','Room']] = data[0].str.split('\\t',7,expand=True)\n",
    "data = data.drop([0],axis=1)"
   ]
  },
  {
   "cell_type": "code",
   "execution_count": 4,
   "metadata": {},
   "outputs": [],
   "source": [
    "b = []\n",
    "from sklearn import preprocessing\n",
    "encoder = preprocessing.LabelEncoder()\n",
    "encoded = encoder.fit_transform(data['Room'])\n",
    "b.append(encoded)\n",
    "new_data = pd.DataFrame(b)\n",
    "encoded_data = new_data.transpose()\n",
    "encoded_data\n",
    "encoded_data.columns = ['encoded_data']\n",
    "data = data.join(encoded_data['encoded_data'])"
   ]
  },
  {
   "cell_type": "code",
   "execution_count": 5,
   "metadata": {},
   "outputs": [],
   "source": [
    "features = data.drop(['Room','encoded_data'], axis=1)\n",
    "target = data['encoded_data']"
   ]
  },
  {
   "cell_type": "code",
   "execution_count": 6,
   "metadata": {},
   "outputs": [],
   "source": [
    "mapping = {'Room 1':0,'Room 2':1,'Room 3':2,'Room 4':3}\n",
    "k = {0:'Room 1',1:'Room 2',2:'Room 3',3:'Room 4'}"
   ]
  },
  {
   "cell_type": "code",
   "execution_count": 7,
   "metadata": {},
   "outputs": [],
   "source": [
    "from sklearn.model_selection import train_test_split\n",
    "featurestrain, featurestest, targettrain, targettest = train_test_split(features,target,random_state=1)"
   ]
  },
  {
   "cell_type": "markdown",
   "metadata": {},
   "source": [
    "CLASSIFICATION USING NAIVE BAYES CLASSIFICATION"
   ]
  },
  {
   "cell_type": "code",
   "execution_count": 8,
   "metadata": {},
   "outputs": [],
   "source": [
    "from sklearn.naive_bayes import GaussianNB\n",
    "model = GaussianNB()\n",
    "model.fit(featurestrain, targettrain)\n",
    "Predicted = model.predict(featurestest)"
   ]
  },
  {
   "cell_type": "code",
   "execution_count": 9,
   "metadata": {},
   "outputs": [
    {
     "name": "stdout",
     "output_type": "stream",
     "text": [
      "Predicted Value: Room 1\n"
     ]
    }
   ],
   "source": [
    "predicte = model.predict([[-64,-56,-61,-66,-71,-82,-81]])\n",
    "print(\"Predicted Value:\", k[predicte[0]])"
   ]
  },
  {
   "cell_type": "code",
   "execution_count": 10,
   "metadata": {},
   "outputs": [
    {
     "data": {
      "text/plain": [
       "0.982"
      ]
     },
     "execution_count": 10,
     "metadata": {},
     "output_type": "execute_result"
    }
   ],
   "source": [
    "from sklearn.metrics import accuracy_score\n",
    "accuracy_score(targettest, Predicted)"
   ]
  },
  {
   "cell_type": "code",
   "execution_count": 11,
   "metadata": {},
   "outputs": [
    {
     "data": {
      "image/png": "[encoded data removed]",
      "text/plain": [
       "<Figure size 720x720 with 2 Axes>"
      ]
     },
     "metadata": {
      "needs_background": "light"
     },
     "output_type": "display_data"
    }
   ],
   "source": [
    "from sklearn.metrics import confusion_matrix\n",
    "conf_mat = confusion_matrix(targettest,Predicted)\n",
    "fig, ax = plt.subplots(figsize=(10,10))\n",
    "sns.heatmap(conf_mat, annot=True, fmt='d',xticklabels=mapping,yticklabels=mapping)\n",
    "plt.ylabel('Actual')\n",
    "plt.xlabel('Predicted')\n",
    "plt.show()"
   ]
  },
  {
   "cell_type": "markdown",
   "metadata": {},
   "source": [
    "SUPPORT VECTOR MACHINE LINEAR AND RADIAL BASIS CLASSIFICATION"
   ]
  },
  {
   "cell_type": "code",
   "execution_count": 12,
   "metadata": {},
   "outputs": [],
   "source": [
    "from sklearn.svm import SVC\n",
    "svc_model = SVC(kernel='linear', C=10000)\n",
    "svc_model.fit(featurestrain, targettrain)\n",
    "svc_Predicted = svc_model.predict(featurestest)"
   ]
  },
  {
   "cell_type": "code",
   "execution_count": 13,
   "metadata": {},
   "outputs": [
    {
     "data": {
      "text/plain": [
       "0.978"
      ]
     },
     "execution_count": 13,
     "metadata": {},
     "output_type": "execute_result"
    }
   ],
   "source": [
    "from sklearn.metrics import accuracy_score\n",
    "accuracy_score(targettest, svc_Predicted)"
   ]
  },
  {
   "cell_type": "code",
   "execution_count": 14,
   "metadata": {},
   "outputs": [
    {
     "data": {
      "image/png": "[encoded data removed]",
      "text/plain": [
       "<Figure size 720x720 with 2 Axes>"
      ]
     },
     "metadata": {
      "needs_background": "light"
     },
     "output_type": "display_data"
    }
   ],
   "source": [
    "from sklearn.metrics import confusion_matrix\n",
    "conf_mat = confusion_matrix(targettest,svc_Predicted)\n",
    "fig, ax = plt.subplots(figsize=(10,10))\n",
    "sns.heatmap(conf_mat, annot=True, fmt='d',xticklabels=mapping, yticklabels=mapping)\n",
    "plt.ylabel('Actual')\n",
    "plt.xlabel('Predicted')\n",
    "plt.show()"
   ]
  },
  {
   "cell_type": "code",
   "execution_count": 15,
   "metadata": {},
   "outputs": [],
   "source": [
    "from sklearn.decomposition import PCA as RandomizedPCA\n",
    "from sklearn.pipeline import make_pipeline"
   ]
  },
  {
   "cell_type": "code",
   "execution_count": 16,
   "metadata": {},
   "outputs": [],
   "source": [
    "pca = RandomizedPCA(n_components=7, whiten=True, random_state=42)\n",
    "svc_r_model = SVC(kernel='rbf', class_weight='balanced')\n",
    "r_model = make_pipeline(pca, svc_r_model)"
   ]
  },
  {
   "cell_type": "code",
   "execution_count": 17,
   "metadata": {},
   "outputs": [],
   "source": [
    "from sklearn.model_selection import GridSearchCV\n",
    "param_grid = {'svc__C': [1, 10, 50],'svc__gamma': [0.0001, 0.0005, 0.001, 0.005]}\n",
    "grid = GridSearchCV(r_model, param_grid)"
   ]
  },
  {
   "cell_type": "code",
   "execution_count": 18,
   "metadata": {},
   "outputs": [
    {
     "name": "stdout",
     "output_type": "stream",
     "text": [
      "{'svc__C': 10, 'svc__gamma': 0.005}\n"
     ]
    }
   ],
   "source": [
    "grid.fit(featurestrain,targettrain)\n",
    "print(grid.best_params_)"
   ]
  },
  {
   "cell_type": "code",
   "execution_count": 19,
   "metadata": {},
   "outputs": [],
   "source": [
    "best_model = grid.best_estimator_\n",
    "svc_r_predicted = best_model.predict(featurestest)"
   ]
  },
  {
   "cell_type": "code",
   "execution_count": 20,
   "metadata": {},
   "outputs": [
    {
     "data": {
      "text/plain": [
       "0.988"
      ]
     },
     "execution_count": 20,
     "metadata": {},
     "output_type": "execute_result"
    }
   ],
   "source": [
    "from sklearn.metrics import accuracy_score\n",
    "accuracy_score(targettest, svc_r_predicted)"
   ]
  },
  {
   "cell_type": "code",
   "execution_count": 21,
   "metadata": {},
   "outputs": [
    {
     "data": {
      "image/png": "[encoded data removed]",
      "text/plain": [
       "<Figure size 720x720 with 2 Axes>"
      ]
     },
     "metadata": {
      "needs_background": "light"
     },
     "output_type": "display_data"
    }
   ],
   "source": [
    "from sklearn.metrics import confusion_matrix\n",
    "conf_mat = confusion_matrix(targettest,svc_r_predicted)\n",
    "fig, ax = plt.subplots(figsize=(10,10))\n",
    "sns.heatmap(conf_mat, annot=True, fmt='d',xticklabels=mapping, yticklabels=mapping)\n",
    "plt.ylabel('Actual')\n",
    "plt.xlabel('Predicted')\n",
    "plt.show()"
   ]
  },
  {
   "cell_type": "code",
   "execution_count": 22,
   "metadata": {
    "scrolled": true
   },
   "outputs": [
    {
     "name": "stdout",
     "output_type": "stream",
     "text": [
      "              precision    recall  f1-score   support\n",
      "\n",
      "      Room 1       1.00      1.00      1.00       123\n",
      "      Room 2       1.00      0.97      0.98       132\n",
      "      Room 3       0.97      0.98      0.98       121\n",
      "      Room 4       0.98      1.00      0.99       124\n",
      "\n",
      "    accuracy                           0.99       500\n",
      "   macro avg       0.99      0.99      0.99       500\n",
      "weighted avg       0.99      0.99      0.99       500\n",
      "\n"
     ]
    }
   ],
   "source": [
    "from sklearn.metrics import classification_report\n",
    "print(classification_report(targettest, svc_r_predicted,target_names=mapping))"
   ]
  },
  {
   "cell_type": "markdown",
   "metadata": {},
   "source": [
    "RANDOMFOREST CLASSIFICATION"
   ]
  },
  {
   "cell_type": "code",
   "execution_count": 23,
   "metadata": {},
   "outputs": [
    {
     "data": {
      "text/plain": [
       "array([1, 3, 2, 2, 2, 3, 1, 0, 2, 2, 2, 2, 3, 2, 0, 3, 1, 2, 1, 2, 0, 3,\n",
       "       3, 1, 1, 0, 3, 0, 1, 0, 3, 1, 3, 1, 1, 1, 1, 0, 1, 3, 0, 0, 2, 2,\n",
       "       2, 3, 1, 3, 3, 3, 3, 2, 1, 0, 1, 1, 1, 1, 3, 0, 3, 0, 2, 2, 2, 1,\n",
       "       2, 1, 1, 2, 3, 3, 3, 3, 2, 2, 2, 2, 2, 1, 0, 1, 0, 0, 2, 2, 1, 0,\n",
       "       0, 0, 0, 1, 0, 3, 3, 1, 2, 2, 1, 0, 3, 0, 1, 0, 1, 3, 3, 2, 1, 2,\n",
       "       1, 0, 2, 3, 0, 1, 1, 2, 3, 2, 2, 2, 3, 2, 1, 2, 3, 2, 3, 1, 2, 1,\n",
       "       1, 0, 1, 2, 3, 0, 3, 0, 2, 0, 3, 2, 1, 2, 2, 3, 0, 3, 1, 0, 3, 2,\n",
       "       0, 3, 3, 3, 1, 2, 2, 3, 2, 1, 0, 3, 0, 0, 2, 1, 1, 2, 0, 3, 0, 1,\n",
       "       1, 1, 1, 2, 1, 3, 1, 3, 0, 3, 2, 2, 0, 1, 0, 3, 2, 3, 0, 0, 0, 0,\n",
       "       1, 1, 1, 2, 3, 2, 3, 1, 2, 3, 2, 1, 3, 3, 0, 2, 1, 0, 1, 0, 3, 1,\n",
       "       2, 3, 2, 0, 3, 0, 1, 2, 0, 3, 2, 3, 3, 1, 0, 2, 1, 2, 2, 3, 3, 1,\n",
       "       1, 3, 0, 0, 2, 1, 3, 3, 0, 0, 2, 3, 3, 2, 2, 3, 1, 0, 2, 3, 0, 3,\n",
       "       3, 2, 1, 2, 2, 2, 0, 2, 2, 2, 2, 1, 0, 3, 0, 2, 0, 3, 1, 3, 2, 2,\n",
       "       3, 0, 2, 2, 2, 0, 3, 1, 3, 0, 1, 1, 2, 0, 0, 3, 3, 3, 1, 2, 3, 1,\n",
       "       3, 2, 3, 0, 0, 3, 2, 0, 1, 1, 0, 1, 3, 0, 0, 3, 3, 3, 0, 3, 0, 1,\n",
       "       0, 3, 2, 1, 2, 0, 1, 0, 1, 0, 0, 0, 2, 3, 3, 0, 1, 0, 2, 2, 0, 0,\n",
       "       3, 1, 0, 0, 1, 1, 1, 3, 0, 1, 2, 3, 3, 0, 2, 3, 1, 0, 2, 3, 0, 1,\n",
       "       3, 0, 3, 2, 3, 0, 0, 0, 1, 3, 0, 2, 3, 1, 3, 3, 1, 1, 1, 3, 2, 0,\n",
       "       1, 0, 3, 3, 0, 1, 1, 0, 1, 3, 0, 2, 1, 0, 2, 3, 0, 1, 0, 0, 3, 3,\n",
       "       2, 3, 3, 1, 3, 1, 0, 0, 1, 2, 0, 1, 0, 3, 1, 1, 0, 1, 3, 3, 2, 0,\n",
       "       2, 2, 3, 0, 3, 3, 1, 2, 0, 0, 1, 2, 0, 1, 2, 2, 0, 1, 1, 3, 1, 2,\n",
       "       3, 2, 0, 1, 2, 3, 3, 0, 1, 1, 2, 0, 2, 2, 3, 1, 3, 1, 0, 1, 1, 1,\n",
       "       3, 0, 0, 0, 1, 1, 1, 1, 0, 2, 0, 1, 2, 3, 0, 1], dtype=int64)"
      ]
     },
     "execution_count": 23,
     "metadata": {},
     "output_type": "execute_result"
    }
   ],
   "source": [
    "from sklearn.ensemble import RandomForestClassifier\n",
    "forest_model = RandomForestClassifier(n_estimators=100, random_state=0)\n",
    "forest_model.fit(featurestrain, targettrain)\n",
    "forest_Predicted = svc_model.predict(featurestest)\n",
    "forest_Predicted"
   ]
  },
  {
   "cell_type": "code",
   "execution_count": 25,
   "metadata": {},
   "outputs": [
    {
     "data": {
      "text/plain": [
       "0.978"
      ]
     },
     "execution_count": 25,
     "metadata": {},
     "output_type": "execute_result"
    }
   ],
   "source": [
    "from sklearn.metrics import accuracy_score\n",
    "accuracy_score(targettest, forest_Predicted)"
   ]
  },
  {
   "cell_type": "code",
   "execution_count": 26,
   "metadata": {},
   "outputs": [
    {
     "data": {
      "image/png": "[encoded data removed]",
      "text/plain": [
       "<Figure size 720x720 with 2 Axes>"
      ]
     },
     "metadata": {
      "needs_background": "light"
     },
     "output_type": "display_data"
    }
   ],
   "source": [
    "from sklearn.metrics import confusion_matrix\n",
    "conf_mat = confusion_matrix(targettest,forest_Predicted)\n",
    "fig, ax = plt.subplots(figsize=(10,10))\n",
    "sns.heatmap(conf_mat, annot=True, fmt='d',xticklabels=mapping, yticklabels=mapping)\n",
    "plt.ylabel('Actual')\n",
    "plt.xlabel('Predicted')\n",
    "plt.show()"
   ]
  },
  {
   "cell_type": "code",
   "execution_count": null,
   "metadata": {},
   "outputs": [],
   "source": []
  }
 ],
 "metadata": {
  "kernelspec": {
   "display_name": "Python 3",
   "language": "python",
   "name": "python3"
  },
  "language_info": {
   "codemirror_mode": {
    "name": "ipython",
    "version": 3
   },
   "file_extension": ".py",
   "mimetype": "text/x-python",
   "name": "python",
   "nbconvert_exporter": "python",
   "pygments_lexer": "ipython3",
   "version": "3.8.5"
  }
 },
 "nbformat": 4,
 "nbformat_minor": 4
}
